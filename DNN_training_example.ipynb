{
  "cells": [
    {
      "cell_type": "markdown",
      "metadata": {
        "id": "QOLJ8NjtBGVQ"
      },
      "source": [
        "# Coagulation\n",
        "\n",
        "This notebook does the following:\n",
        "1. Loads a number of python modules\n",
        "2. Reads `training_data.csv`\n",
        "6. Subsets data and produces numpy arrays\n",
        "7. Defines a simple feed forward neural network\n",
        "8. Fits network to training set\n",
        "9. Plots predicted versus actual `y` values for training set"
      ]
    },
    {
      "cell_type": "markdown",
      "metadata": {
        "id": "xw33Ce93BGVR"
      },
      "source": [
        "## Getting Started\n",
        "\n",
        "To get started, you'll want to install the following packages:\n",
        "\n",
        "* pandas\n",
        "* numpy\n",
        "* matplotlib\n",
        "* scipy\n",
        "* keras\n",
        "* tensorflow-gpu\n",
        "* ipywidgets"
      ]
    },
    {
      "cell_type": "markdown",
      "metadata": {
        "id": "rtzQexq9BGVS"
      },
      "source": [
        "## NOTE\n"
      ]
    },
    {
      "cell_type": "code",
      "execution_count": null,
      "metadata": {
        "id": "x434WXKJBGVS",
        "outputId": "140f8e7b-0889-4173-c5a8-19b410a37a4b"
      },
      "outputs": [
        {
          "name": "stderr",
          "output_type": "stream",
          "text": [
            "Using TensorFlow backend.\n"
          ]
        },
        {
          "name": "stdout",
          "output_type": "stream",
          "text": [
            "Num GPUs: 0\n"
          ]
        }
      ],
      "source": [
        "######################\n",
        "## Basic math stuff ##\n",
        "######################\n",
        "from random import sample\n",
        "\n",
        "#######################\n",
        "## Working with data ##\n",
        "#######################\n",
        "## pip install pandas\n",
        "## pip install numpy\n",
        "import pandas as pd\n",
        "import numpy as np\n",
        "\n",
        "##############\n",
        "## Plotting ##\n",
        "##############\n",
        "## pip install matplotlib\n",
        "## pip install scipy\n",
        "import matplotlib.pyplot as plt\n",
        "import matplotlib.tri as tri\n",
        "from scipy.interpolate import griddata\n",
        "\n",
        "###########\n",
        "## Keras ##\n",
        "###########\n",
        "## pip install keras\n",
        "## pip install tensorflow-gpu\n",
        "from keras.models import Model, load_model\n",
        "from keras.layers import Dense, Input, BatchNormalization, Dropout,Activation\n",
        "from keras.callbacks import EarlyStopping, ModelCheckpoint\n",
        "from keras import initializers,optimizers\n",
        "from keras import backend as K\n",
        "from keras.wrappers.scikit_learn import KerasRegressor\n",
        "\n",
        "#############################\n",
        "## Widgets for interaction ##\n",
        "#############################\n",
        "## pip install ipywidgets\n",
        "import ipywidgets as widgets\n",
        "from ipywidgets import interact, interact_manual\n",
        "\n",
        "\n",
        "##################\n",
        "## Scikit-learn ##\n",
        "##################\n",
        "## pip install scikit-learn\n",
        "from sklearn.model_selection import train_test_split, StratifiedShuffleSplit,GridSearchCV, RandomizedSearchCV\n",
        "from sklearn.metrics import mean_squared_error,r2_score\n",
        "\n",
        "################\n",
        "## Tensorflow ##\n",
        "################\n",
        "import os\n",
        "os.environ[\"CUDA_VISIBLE_DEVICES\"] = \"-1\" # Comment this to re-enable GPU, you must restart kernal.\n",
        "import tensorflow as tf\n",
        "from tensorflow import keras\n",
        "\n",
        "#Check if tf-gpu is active\n",
        "physical_devices = tf.config.list_physical_devices('GPU')\n",
        "print(\"Num GPUs:\", len(physical_devices))"
      ]
    },
    {
      "cell_type": "markdown",
      "metadata": {
        "id": "_wi3pNe_BGVT"
      },
      "source": [
        "## Read in the Data Using Pandas"
      ]
    },
    {
      "cell_type": "code",
      "execution_count": null,
      "metadata": {
        "id": "rrYdKlmOBGVU"
      },
      "outputs": [],
      "source": [
        "data = pd.read_csv(\"training_data.csv\")\n",
        "data.head()"
      ]
    },
    {
      "cell_type": "markdown",
      "metadata": {
        "id": "tE0zR_-yBGVU"
      },
      "source": [
        "## Extract Columns of Interest"
      ]
    },
    {
      "cell_type": "code",
      "execution_count": null,
      "metadata": {
        "id": "ZIzsZ4-RBGVV"
      },
      "outputs": [],
      "source": [
        "attributes = ['...','...','....','....','...','...','.....','filtered_removal']\n",
        "data = data[attributes]"
      ]
    },
    {
      "cell_type": "markdown",
      "metadata": {
        "id": "jvT4jiC7BGVW"
      },
      "source": [
        "## Prepare Training and Validation Data\n"
      ]
    },
    {
      "cell_type": "markdown",
      "metadata": {
        "id": "_bVp1VHBBGVW"
      },
      "source": [
        "### <u>Method 1</u> :  Randomly split data into 3 sets from each model water"
      ]
    },
    {
      "cell_type": "code",
      "execution_count": null,
      "metadata": {
        "id": "CnbsdiiFBGVW"
      },
      "outputs": [],
      "source": [
        "#Randomly splits data from each model water into training and testing/validation sets\n",
        "split = StratifiedShuffleSplit(n_splits=1, test_size=0.4, random_state=42)\n",
        "\n",
        "for train_index, test_valid_index in split.split(data, data['.....']):\n",
        "    train_set = data.iloc[train_index]\n",
        "    test_valid_set = data.iloc[test_valid_index]\n",
        "\n",
        "#Randomly splits data from each model water into testing and validation sets\n",
        "split2 = StratifiedShuffleSplit(n_splits=1, test_size=0.5, random_state=42)\n",
        "for test_index, valid_index in split2.split(test_valid_set, test_valid_set['.....']):\n",
        "    test_set = test_valid_set.iloc[test_index]\n",
        "    valid_set = test_valid_set.iloc[valid_index]\n",
        "\n",
        "\n",
        "\n",
        "# Drop model water and filtered column from data sets and convert to array\n",
        "train_X = np.array(train_set.drop([\".....\",\"filtered_removal\"],axis=1))\n",
        "valid_X = np.array(valid_set.drop([\".....\",\"filtered_removal\"],axis=1))\n",
        "test_X = np.array(test_set.drop([\".....\",\"filtered_removal\"],axis=1))\n",
        "\n",
        "# Drop model water and extract filtered column from data sets\n",
        "train_Y = np.array(train_set['filtered_removal'])\n",
        "valid_Y = np.array(valid_set['filtered_removal'])\n",
        "test_Y = np.array(test_set['filtered_removal'])"
      ]
    },
    {
      "cell_type": "markdown",
      "metadata": {
        "id": "hcxxyEb8BGVW"
      },
      "source": [
        "### <u>Method 2</u> :  Use one model water validation, one for testing, and remaining for training"
      ]
    },
    {
      "cell_type": "code",
      "source": [
        "## REDACTED\n"
      ],
      "metadata": {
        "id": "benKRBuMR5nb"
      },
      "execution_count": null,
      "outputs": []
    },
    {
      "cell_type": "markdown",
      "metadata": {
        "id": "c_ejatyhBGVX"
      },
      "source": [
        "#### <u> Conclusions </u>\n",
        "    Method 2 seems to do a better job at training the network"
      ]
    },
    {
      "cell_type": "markdown",
      "metadata": {
        "id": "OWilcFLmBGVX"
      },
      "source": [
        "## Define and Fit Neural Network Model"
      ]
    },
    {
      "cell_type": "markdown",
      "metadata": {
        "id": "wySp_ypRBGVX"
      },
      "source": [
        "#### Notes on hyperparameter tuning\n",
        "\n",
        "\n",
        "<u>Activation Function Optimization</u>\n",
        "    \n",
        "    - Range tested ['sigmoid','tanh','relu','elu','softplus'] for each layer\n",
        "    - Results showed that....\n",
        "\n",
        "<u>Learning Rate Optimization</u>\n",
        "\n",
        "    - Range tested [3e-5,3e-4,3e-3,3e-2,3e-1]\n",
        "    - Results showed that....\n",
        "\n",
        "<u>Nuerons Optimization</u>\n",
        "\n",
        "    - Range tested [20 - 45] for each layer\n",
        "    - Results showed that the best score was achieved...."
      ]
    },
    {
      "cell_type": "code",
      "execution_count": null,
      "metadata": {
        "id": "IDg775eQBGVX"
      },
      "outputs": [],
      "source": [
        "# # Clear models in memory\n",
        "K.clear_session()"
      ]
    },
    {
      "cell_type": "markdown",
      "metadata": {
        "id": "nqc96Vu6BGVX"
      },
      "source": [
        "#### Hyperparameter Tunining\n",
        "\n"
      ]
    },
    {
      "cell_type": "code",
      "execution_count": null,
      "metadata": {
        "scrolled": true,
        "id": "0h-biK6QBGVX"
      },
      "outputs": [],
      "source": [
        "## REDACTED\n"
      ]
    },
    {
      "cell_type": "markdown",
      "metadata": {
        "id": "4bgeUrKBBGVY"
      },
      "source": [
        "### Final Network"
      ]
    },
    {
      "cell_type": "code",
      "execution_count": null,
      "metadata": {
        "id": "hTjmM2oyBGVY"
      },
      "outputs": [],
      "source": [
        "# Build the Network\n",
        "input_layer = Input((00,)) # Replace 00 with the number of model input parameters\n",
        "normalized_input = BatchNormalization()(input_layer)\n",
        "hidden_1 = Dense(00, activation='#####')(normalized_input) # Replace 00 with the number of neurons in layer 1, replace activation function with one from the range tested above. There are many functions, do some research to figure out which one works best.\n",
        "hidden_2 = Dense(00, activation='#####')(hidden_1) # Replace 00 with the number of neurons in layer 2, replace activation function with one from the range tested above. There are many functions, do some research to figure out which one works best.\n",
        "output_layer = Dense(1, activation='#####')(hidden_2) # Number of of outputs, in this case I'm only interested in predicting 1 value...you can have multiple outputs if you like.\n",
        "model = Model(inputs=input_layer, outputs=output_layer) # Builds the model.\n",
        "nadam = optimizers.Nadam(learning_rate=0000, beta_1=0000, beta_2=00000) # This is defining the optimizer function. Again, there are many types and some are better for certain applications over others. Nadam is the one I selected.\n",
        "print(model.summary()) # Prints a summary of the network...\n",
        "\n",
        "\n",
        "# Train Network\n",
        "model.compile(optimizer=nadam, loss=\"mean_squared_error\") # Compile the model and define regression loss fucntion. Again, do some research to figure out which function to use. The default is MSE.\n",
        "mc = ModelCheckpoint('#######.h5', monitor='val_loss', mode='min', save_best_only=True) # Saves the best model. Keras will use the validation dataset to monitor for overfitting and stop training if it detects it. It will save the best performing model to your directory.\n",
        "\n",
        "history = model.fit(train_X,train_Y,\n",
        "                    validation_data=[valid_X,valid_Y],\n",
        "                    verbose=1,epochs=1000,  #epochs = # of training steps...\n",
        "                    batch_size=128,\n",
        "                    callbacks=[mc])\n",
        "\n",
        "# Select Best Model\n",
        "model = load_model('#######.h5')"
      ]
    },
    {
      "cell_type": "code",
      "execution_count": null,
      "metadata": {
        "id": "5r6AWi7CBGVY",
        "outputId": "adeaa6f1-b9bb-4793-9a45-c5afc79dcde7"
      },
      "outputs": [
        {
          "name": "stdout",
          "output_type": "stream",
          "text": [
            "RMSE= 10.47 %\n",
            "R2= 0.929\n"
          ]
        },
        {
          "data": {
            "text/plain": [
              "<bound method Figure.show of <Figure size 432x288 with 1 Axes>>"
            ]
          },
          "execution_count": 29,
          "metadata": {},
          "output_type": "execute_result"
        },
        {
          "data": {
            "image/png": "[encoded data removed]",
            "text/plain": [
              "<Figure size 432x288 with 1 Axes>"
            ]
          },
          "metadata": {
            "needs_background": "light"
          },
          "output_type": "display_data"
        },
        {
          "data": {
            "image/png": "[encoded data removed]",
            "text/plain": [
              "<Figure size 432x288 with 1 Axes>"
            ]
          },
          "metadata": {
            "needs_background": "light"
          },
          "output_type": "display_data"
        }
      ],
      "source": [
        "# Make Predictions\n",
        "preds = model.predict(test_X, batch_size=128)\n",
        "# Mean Squared Error\n",
        "mse = mean_squared_error(test_Y,preds)\n",
        "# RMSE\n",
        "rmse = np.sqrt(mse)\n",
        "# R2\n",
        "r2 = r2_score(test_Y,preds)\n",
        "print('RMSE=',format(rmse*100,'.2f'),'%')\n",
        "print('R2=',format(r2,'.3f'))\n",
        "\n",
        "f = plt.figure(1)\n",
        "plt.scatter(test_Y,preds)\n",
        "f.show\n",
        "\n",
        "test_Y = np.asarray(test_Y,dtype=np.float32)\n",
        "test_Y = np.reshape(test_Y,(len(test_Y),1))\n",
        "\n",
        "g = plt.figure(2)\n",
        "error = (test_Y-preds)\n",
        "plt.hist(error,bins=10)\n",
        "g.show\n",
        "\n"
      ]
    }
  ],
  "metadata": {
    "kernelspec": {
      "display_name": "Python 3",
      "language": "python",
      "name": "python3"
    },
    "language_info": {
      "codemirror_mode": {
        "name": "ipython",
        "version": 3
      },
      "file_extension": ".py",
      "mimetype": "text/x-python",
      "name": "python",
      "nbconvert_exporter": "python",
      "pygments_lexer": "ipython3",
      "version": "3.7.6"
    },
    "colab": {
      "provenance": []
    }
  },
  "nbformat": 4,
  "nbformat_minor": 0
}